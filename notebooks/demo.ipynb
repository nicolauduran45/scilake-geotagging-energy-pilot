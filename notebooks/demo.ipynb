{
 "cells": [
  {
   "cell_type": "markdown",
   "metadata": {},
   "source": [
    "# SciLake Energy Pilot – GeoTagging Scientific Publications\n",
    "\n",
    "This repository provides examples and workflows for **geotagging scientific publications** in the context of the **Energy Planning Pilot** of the [SciLake European Project](https://www.scilake.eu/).  \n",
    "\n",
    "The notebook demonstrates how to extract and normalize **geographical information** from scientific publications using two main components:\n",
    "\n",
    "- [**AffilGood**](https://github.com/sirisacademic/affilgood/tree/main/docs)  \n",
    "  Identifies and geolocates geographical components of **affiliations** extracted from publications.  \n",
    "  📄 Paper: [*AffilGood: Building reliable institution name disambiguation tools to improve scientific literature analysis* (ACL 2024)](https://aclanthology.org/2024.sdp-1.13/)\n",
    "\n",
    "- [**GEORDIE**](https://github.com/sirisacademic/geordie/tree/dev)  \n",
    "  Extracts **geographical mentions** in text (title, abstract, full text), normalizes them, and characterizes them by semantic role.  \n",
    "  📄 Paper: under development\n"
   ]
  },
  {
   "cell_type": "markdown",
   "metadata": {},
   "source": [
    "**0. Imports**"
   ]
  },
  {
   "cell_type": "code",
   "execution_count": 18,
   "metadata": {},
   "outputs": [
    {
     "name": "stdout",
     "output_type": "stream",
     "text": [
      "The autoreload extension is already loaded. To reload it, use:\n",
      "  %reload_ext autoreload\n"
     ]
    }
   ],
   "source": [
    "%load_ext autoreload\n",
    "%autoreload 2\n",
    "\n",
    "import sys, os, json\n",
    "from datasets import load_dataset\n",
    "import geordie\n",
    "from affilgood import AffilGood\n",
    "\n",
    "sys.path.append(os.path.abspath(\"..\")) \n",
    "from scripts.utils import build_all_payload \n",
    "\n",
    "def proc_text(g, text: str | None):\n",
    "    if not text or (isinstance(text, str) and not text.strip()):\n",
    "        return None\n",
    "    try:\n",
    "        return g.process_text(text)\n",
    "    except Exception as e:\n",
    "        print(\"⚠️ GEORDIE error on text snippet:\", str(e)[:200])\n",
    "        return None"
   ]
  },
  {
   "cell_type": "markdown",
   "metadata": {},
   "source": [
    "**1. Load dataset & pick one publication**"
   ]
  },
  {
   "cell_type": "code",
   "execution_count": 38,
   "metadata": {},
   "outputs": [
    {
     "data": {
      "text/plain": [
       "('https://doi.org/10.5278/ijsepm.5400',\n",
       " 'Application of a cost-benefit model to evaluate the investment viability of the small-scale cogeneration systems in the ')"
      ]
     },
     "execution_count": 38,
     "metadata": {},
     "output_type": "execute_result"
    }
   ],
   "source": [
    "# Download the sample of publications on energy planning\n",
    "ds = load_dataset(\"nicolauduran45/scilake-additional-fulltext-corpus\")\n",
    "pubs = ds[\"energy_planning\"]\n",
    "\n",
    "row = pubs[18]   # ← first item\n",
    "row.get(\"doi\"), row.get(\"title\")[:120] if row.get(\"title\") else None"
   ]
  },
  {
   "cell_type": "markdown",
   "metadata": {},
   "source": [
    "**2. Init GEORDIE & AffilGood**"
   ]
  },
  {
   "cell_type": "code",
   "execution_count": null,
   "metadata": {},
   "outputs": [],
   "source": [
    "# Init geordie, cpu is fine for few examples\n",
    "g = geordie.Geordie(device=\"cpu\")\n",
    "\n",
    "# Init basic config of affilgood\n",
    "affil_good = AffilGood(\n",
    "    span_separator='',  # Use model-based span identification\n",
    "    span_model_path='SIRIS-Lab/affilgood-span-multilingual',  # Custom span model\n",
    "    ner_model_path='SIRIS-Lab/affilgood-NER-multilingual',  # Custom NER model\n",
    "    entity_linkers=['Whoosh'],#, 'DenseLinker'],  # Use multiple linkers\n",
    "    return_scores=True,  # Return confidence scores with predictions\n",
    "    metadata_normalization=True,  # Enable location normalization\n",
    "    verbose=False,  # Detailed logging\n",
    "    device='cpu'  # Auto-detect device (CPU or CUDA)\n",
    ")"
   ]
  },
  {
   "cell_type": "markdown",
   "metadata": {},
   "source": [
    "**3. Process title, abstract, and full text sections**"
   ]
  },
  {
   "cell_type": "code",
   "execution_count": 52,
   "metadata": {},
   "outputs": [
    {
     "name": "stdout",
     "output_type": "stream",
     "text": [
      "Output file stored in : ../examples/Application of a cost-benefit model to evaluate the investment viability of the small-scale cogeneration systems in the Portuguese context.json\n",
      "{\n",
      "  \"doi\": \"https://doi.org/10.5278/ijsepm.5400\",\n",
      "  \"affiliations\": [],\n",
      "  \"title\": {\n",
      "    \"text\": \"....\",\n",
      "    \"entities\": [\n",
      "      {\n",
      "        \"raw_entity\": \"Portuguese\",\n",
      "        \"role\": \"Object of study\",\n",
      "        \"osm_entity\": \"Portugal\",\n",
      "        \"osm_link\": \"https://www.openstreetmap.org/relation/295480\",\n",
      "        \"osm_id\": \"295480\",\n",
      "        \"place_id\": \"263154752\"\n",
      "      }\n",
      "    ]\n",
      "  },\n",
      "  \"abstract\": {\n",
      "    \"text\": \"....\",\n",
      "    \"entities\": [\n",
      "      {\n",
      "        \"raw_entity\": \"Portuguese\",\n",
      "        \"role\": \"Object of study\",\n",
      "        \"osm_entity\": \"Portugal\",\n",
      "        \"osm_link\": \"https://www.openstreetmap.org/relation/295480\",\n",
      "        \"osm_id\": \"295480\",\n",
      "        \"place_id\": \"263154752\"\n",
      "      }\n",
      "    ]\n",
      "  },\n",
      "  \"fulltext\": [\n",
      "    {\n",
      "      \"section_num\": \"1.\",\n",
      "      \"section_name\": \"Introduction\",\n",
      "      \"text\": \"....\",\n",
      "      \"entities\": []\n",
      "    },\n",
      "    {\n",
      "      \"section_num\": \"1.1.\",\n",
      "      \"section_name\": \"Roadmap of cogeneration background over the years\",\n",
      "      \"text\": \"....\",\n",
      "      \"entities\": [\n",
      "        {\n",
      "          \"raw_entity\": \"Europe\",\n",
      "          \"role\": \"Other\",\n",
      "          \"osm_entity\": \"Europe\",\n",
      "          \"osm_link\": \"https://www.openstreetmap.org/node/25871341\",\n",
      "          \"osm_id\": \"25871341\",\n",
      "          \"place_id\": \"124411950\"\n",
      "        },\n",
      "        {\n",
      "          \"raw_entity\": \"United States\",\n",
      "          \"role\": \"Other\",\n",
      "          \"osm_entity\": \"United States\",\n",
      "          \"osm_link\": \"https://www.openstreetmap.org/relation/148838\",\n",
      "          \"osm_id\": \"148838\",\n",
      "          \"place_id\": \"46985635\"\n",
      "        },\n",
      "        {\n",
      "          \"raw_entity\": \"Canada\",\n",
      "          \"role\": \"Other\",\n",
      "          \"osm_entity\": \"Canada\",\n",
      "          \"osm_link\": \"https://www.openstreetmap.org/relation/1428125\",\n",
      "          \"osm_id\": \"1428125\",\n",
      "          \"place_id\": \"346277167\"\n",
      "        },\n",
      "        {\n",
      "          \"raw_entity\": \"Japan\",\n",
      "          \"role\": \"Other\",\n",
      "          \"osm_entity\": \"Japan\",\n",
      "          \"osm_link\": \"https://www.openstreetmap.org/relation/382313\",\n",
      "          \"osm_id\": \"382313\",\n",
      "          \"place_id\": \"242384397\"\n",
      "        }\n",
      "      ]\n",
      "    }\n",
      "  ]\n",
      "}\n"
     ]
    }
   ],
   "source": [
    "def entities_only(geo_result):\n",
    "    \"\"\"\n",
    "    Accepts:\n",
    "      - dict like {\"text\": \"...\", \"entities\": [...]}\n",
    "      - list of entity dicts\n",
    "      - None\n",
    "    Returns: list[dict] (entity dicts as GEORDIE emits them)\n",
    "    \"\"\"\n",
    "    if geo_result is None:\n",
    "        return []\n",
    "    if isinstance(geo_result, dict):\n",
    "        return geo_result.get(\"entities\") or geo_result.get(\"spans\") or []\n",
    "    if isinstance(geo_result, list):\n",
    "        return geo_result\n",
    "    return []\n",
    "\n",
    "# GEORDIE runs\n",
    "title_geo_raw    = proc_text(g, row.get(\"title\"))\n",
    "abstract_geo_raw = proc_text(g, row.get(\"abstract\"))\n",
    "\n",
    "# Extract **lists of entities**\n",
    "title_entities    = entities_only(title_geo_raw)\n",
    "abstract_entities = entities_only(abstract_geo_raw)\n",
    "\n",
    "# Sections: build a list-of-lists aligned with `fulltext_sections`\n",
    "sections = row.get(\"fulltext_sections\") or []\n",
    "ft_entities = []\n",
    "for sec in sections:\n",
    "    content = (sec or {}).get(\"section_content\")\n",
    "    sec_geo_raw = proc_text(g, content)\n",
    "    ft_entities.append(entities_only(sec_geo_raw))\n",
    "\n",
    "out = {\n",
    "    \"doi\": row.get(\"doi\"),\n",
    "    \"affilgood\": row.get('affiliations'),                 # <-- raw affilgood list\n",
    "    \"title\": row.get(\"title\") or \"\",\n",
    "    \"title_geordie\": title_entities,            # <-- list of entity dicts\n",
    "    \"abstract\": row.get(\"abstract\") or \"\",\n",
    "    \"abstract_geordie\": abstract_entities,      # <-- list of entity dicts\n",
    "    \"fulltext_sections\": sections,              # <-- original sections (with text)\n",
    "    \"fulltext_sections_geordie\": ft_entities    # <-- list-of-lists (aligned)\n",
    "}\n",
    "\n",
    "# Postpocess output\n",
    "payload = build_all_payload(out)\n",
    "\n",
    "# Store output \n",
    "os.makedirs(\"../examples\", exist_ok=True)\n",
    "out_path = f\"../examples/{row['title']}.json\"\n",
    "with open(out_path, \"w\", encoding=\"utf-8\") as f:\n",
    "    json.dump(payload, f, ensure_ascii=False, indent=2)\n",
    "print(f\"Output file stored in : {out_path}\")\n",
    "\n",
    "# print output\n",
    "def compact(p):\n",
    "    c = dict(p)\n",
    "    c[\"title\"] = {\"text\": \"....\", \"entities\": p[\"title\"][\"entities\"]}\n",
    "    c[\"abstract\"] = {\"text\": \"....\", \"entities\": p[\"abstract\"][\"entities\"]}\n",
    "    c[\"fulltext\"] = [\n",
    "        {\n",
    "            \"section_num\": s.get(\"section_num\"),\n",
    "            \"section_name\": s.get(\"section_name\"),\n",
    "            \"text\": \"....\",\n",
    "            \"entities\": s.get(\"entities\", [])[:5],  # show a few\n",
    "        }\n",
    "        for s in p.get(\"fulltext\", [])[:2]  # show first two sections\n",
    "    ]\n",
    "    return c\n",
    "\n",
    "print(json.dumps(compact(payload), ensure_ascii=False, indent=2))"
   ]
  }
 ],
 "metadata": {
  "kernelspec": {
   "display_name": "scilake-energy-geo",
   "language": "python",
   "name": "python3"
  },
  "language_info": {
   "codemirror_mode": {
    "name": "ipython",
    "version": 3
   },
   "file_extension": ".py",
   "mimetype": "text/x-python",
   "name": "python",
   "nbconvert_exporter": "python",
   "pygments_lexer": "ipython3",
   "version": "3.10.18"
  }
 },
 "nbformat": 4,
 "nbformat_minor": 2
}
